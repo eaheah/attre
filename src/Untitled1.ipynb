{
 "cells": [
  {
   "cell_type": "code",
   "execution_count": null,
   "metadata": {},
   "outputs": [
    {
     "name": "stdout",
     "output_type": "stream",
     "text": [
      "A\n",
      "a\n"
     ]
    }
   ],
   "source": [
    "# USAGE\n",
    "# python align_faces.py --shape-predictor shape_predictor_68_face_landmarks.dat --image images/example_01.jpg\n",
    "\n",
    "# import the necessary packages\n",
    "from imutils.face_utils import FaceAligner\n",
    "from imutils.face_utils import rect_to_bb\n",
    "import argparse\n",
    "import imutils\n",
    "import dlib\n",
    "import cv2\n",
    "from matplotlib import pyplot as plt\n",
    "\n",
    "\n",
    "\n",
    "print(\"A\")\n",
    "# initialize dlib's face detector (HOG-based) and then create\n",
    "# the facial landmark predictor and the face aligner\n",
    "detector = dlib.get_frontal_face_detector()\n",
    "print(\"a\")\n",
    "predictor = dlib.shape_predictor('shape_predictor_68_face_landmarks.dat')\n",
    "print(\"b\")\n",
    "fa = FaceAligner(predictor, desiredFaceWidth=256)\n",
    "print(\"B\")\n",
    "# load the input image, resize it, and convert it to grayscale\n",
    "image = cv2.imread('images/example_01.jpg')\n",
    "image = imutils.resize(image, width=800)\n",
    "gray = cv2.cvtColor(image, cv2.COLOR_BGR2GRAY)\n",
    "\n",
    "# show the original input image and detect faces in the grayscale\n",
    "# image\n",
    "cv2.imshow(\"Input\", image)\n",
    "rects = detector(gray, 2)\n",
    "\n",
    "# loop over the face detections\n",
    "for rect in rects:\n",
    "    print(\"asdf\")\n",
    "    # extract the ROI of the *original* face, then align the face\n",
    "    # using facial landmarks\n",
    "    (x, y, w, h) = rect_to_bb(rect)\n",
    "    faceOrig = imutils.resize(image[y:y + h, x:x + w], width=256)\n",
    "    faceAligned = fa.align(image, gray, rect)\n",
    "\n",
    "    plt.imshow(faceOrig)\n",
    "    plt.title('my picture')\n",
    "    plt.show()\n",
    "    \n",
    "    plt.imshow(faceAligned)\n",
    "    plt.title('my picture')\n",
    "    plt.show()"
   ]
  },
  {
   "cell_type": "code",
   "execution_count": null,
   "metadata": {},
   "outputs": [],
   "source": []
  },
  {
   "cell_type": "code",
   "execution_count": null,
   "metadata": {},
   "outputs": [],
   "source": []
  }
 ],
 "metadata": {
  "kernelspec": {
   "display_name": "Python 3",
   "language": "python",
   "name": "python3"
  },
  "language_info": {
   "codemirror_mode": {
    "name": "ipython",
    "version": 3
   },
   "file_extension": ".py",
   "mimetype": "text/x-python",
   "name": "python",
   "nbconvert_exporter": "python",
   "pygments_lexer": "ipython3",
   "version": "3.5.2"
  }
 },
 "nbformat": 4,
 "nbformat_minor": 2
}
